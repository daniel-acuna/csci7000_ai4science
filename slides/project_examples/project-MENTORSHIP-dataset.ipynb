{
 "cells": [
  {
   "cell_type": "markdown",
   "id": "89f21355",
   "metadata": {},
   "source": [
    "# Introduction"
   ]
  },
  {
   "cell_type": "markdown",
   "id": "18765d94",
   "metadata": {},
   "source": [
    "Some very rudimentary snippets of code illustrating how load data from the MENTORSHIP dataset. Data is described in Ke, Q., Liang, L., Ding, Y. et al. A dataset of mentorship in bioscience with semantic and demographic estimations. Sci Data 9, 467 (2022). https://doi.org/10.1038/s41597-022-01578-x"
   ]
  },
  {
   "cell_type": "code",
   "execution_count": 2,
   "id": "3da19452",
   "metadata": {},
   "outputs": [],
   "source": [
    "# load required libraries\n",
    "import pickle\n",
    "import pathlib\n",
    "from os import path\n",
    "\n",
    "import pandas as pd\n",
    "import numpy as np\n",
    "import matplotlib.pyplot as plt\n",
    "from scipy.spatial import distance"
   ]
  },
  {
   "cell_type": "code",
   "execution_count": 6,
   "id": "e11ae80e",
   "metadata": {},
   "outputs": [],
   "source": [
    "home_dir = pathlib.Path('../')"
   ]
  },
  {
   "cell_type": "markdown",
   "id": "eac3c587",
   "metadata": {},
   "source": [
    "# Load information about researchers and their mentoring relationships"
   ]
  },
  {
   "cell_type": "code",
   "execution_count": 7,
   "id": "bcea0f3f",
   "metadata": {},
   "outputs": [],
   "source": [
    "connect = pd.read_csv(home_dir / 'data' / 'MENTORSHIP' / 'mentorship.csv')\n",
    "people = pd.read_csv(home_dir / 'data' / 'MENTORSHIP' / 'researcher.csv')"
   ]
  },
  {
   "cell_type": "code",
   "execution_count": 8,
   "id": "9a4ef217",
   "metadata": {},
   "outputs": [
    {
     "data": {
      "text/plain": [
       "Index(['CID', 'MenteeID', 'MentorID', 'MentorshipType', 'Institution',\n",
       "       'InstitutionMAGID', 'StartYear', 'StopYear'],\n",
       "      dtype='object')"
      ]
     },
     "execution_count": 8,
     "metadata": {},
     "output_type": "execute_result"
    }
   ],
   "source": [
    "connect.columns"
   ]
  },
  {
   "cell_type": "code",
   "execution_count": 9,
   "id": "31727ac4",
   "metadata": {},
   "outputs": [
    {
     "data": {
      "text/plain": [
       "Index(['PID', 'FirstName', 'MiddleName', 'LastName', 'Institution',\n",
       "       'InstitutionMAGID', 'ResearchArea', 'ORCID', 'MAGAuthorID'],\n",
       "      dtype='object')"
      ]
     },
     "execution_count": 9,
     "metadata": {},
     "output_type": "execute_result"
    }
   ],
   "source": [
    "people.columns"
   ]
  },
  {
   "cell_type": "code",
   "execution_count": 10,
   "id": "ab8f3c9e",
   "metadata": {},
   "outputs": [],
   "source": [
    "connect = connect[['CID','MenteeID','MentorID','MentorshipType','Institution','StopYear']]\n",
    "people = people[['PID','FirstName','MiddleName','LastName','Institution','ResearchArea']]"
   ]
  },
  {
   "cell_type": "markdown",
   "id": "57e917d0",
   "metadata": {},
   "source": [
    "Link names to connections"
   ]
  },
  {
   "cell_type": "code",
   "execution_count": 11,
   "id": "1edabeb6",
   "metadata": {},
   "outputs": [
    {
     "data": {
      "text/html": [
       "<div>\n",
       "<style scoped>\n",
       "    .dataframe tbody tr th:only-of-type {\n",
       "        vertical-align: middle;\n",
       "    }\n",
       "\n",
       "    .dataframe tbody tr th {\n",
       "        vertical-align: top;\n",
       "    }\n",
       "\n",
       "    .dataframe thead th {\n",
       "        text-align: right;\n",
       "    }\n",
       "</style>\n",
       "<table border=\"1\" class=\"dataframe\">\n",
       "  <thead>\n",
       "    <tr style=\"text-align: right;\">\n",
       "      <th></th>\n",
       "      <th>CID</th>\n",
       "      <th>MenteeID</th>\n",
       "      <th>MentorID</th>\n",
       "      <th>MentorshipType</th>\n",
       "      <th>Institution</th>\n",
       "      <th>StopYear</th>\n",
       "      <th>PID_t</th>\n",
       "      <th>FirstName_t</th>\n",
       "      <th>MiddleName_t</th>\n",
       "      <th>LastName_t</th>\n",
       "      <th>ResearchArea_t</th>\n",
       "      <th>PID_m</th>\n",
       "      <th>FirstName_m</th>\n",
       "      <th>MiddleName_m</th>\n",
       "      <th>LastName_m</th>\n",
       "      <th>ResearchArea_m</th>\n",
       "    </tr>\n",
       "  </thead>\n",
       "  <tbody>\n",
       "    <tr>\n",
       "      <th>0</th>\n",
       "      <td>2</td>\n",
       "      <td>2</td>\n",
       "      <td>3</td>\n",
       "      <td>1</td>\n",
       "      <td>University of California, Berkeley</td>\n",
       "      <td>2005</td>\n",
       "      <td>2</td>\n",
       "      <td>BENJAMIN</td>\n",
       "      <td>Y</td>\n",
       "      <td>HAYDEN</td>\n",
       "      <td>neuro</td>\n",
       "      <td>3</td>\n",
       "      <td>JACK</td>\n",
       "      <td>L</td>\n",
       "      <td>GALLANT</td>\n",
       "      <td>neuro,psych</td>\n",
       "    </tr>\n",
       "    <tr>\n",
       "      <th>1</th>\n",
       "      <td>3</td>\n",
       "      <td>4</td>\n",
       "      <td>3</td>\n",
       "      <td>2</td>\n",
       "      <td>University of California, Berkeley</td>\n",
       "      <td>2006</td>\n",
       "      <td>4</td>\n",
       "      <td>BENJAMIN</td>\n",
       "      <td>NaN</td>\n",
       "      <td>WILLMORE</td>\n",
       "      <td>neuro</td>\n",
       "      <td>3</td>\n",
       "      <td>JACK</td>\n",
       "      <td>L</td>\n",
       "      <td>GALLANT</td>\n",
       "      <td>neuro,psych</td>\n",
       "    </tr>\n",
       "    <tr>\n",
       "      <th>2</th>\n",
       "      <td>5</td>\n",
       "      <td>6</td>\n",
       "      <td>3</td>\n",
       "      <td>1</td>\n",
       "      <td>University of California, Berkeley</td>\n",
       "      <td>2008</td>\n",
       "      <td>6</td>\n",
       "      <td>RYAN</td>\n",
       "      <td>NaN</td>\n",
       "      <td>PRENGER</td>\n",
       "      <td>neuro</td>\n",
       "      <td>3</td>\n",
       "      <td>JACK</td>\n",
       "      <td>L</td>\n",
       "      <td>GALLANT</td>\n",
       "      <td>neuro,psych</td>\n",
       "    </tr>\n",
       "    <tr>\n",
       "      <th>3</th>\n",
       "      <td>17</td>\n",
       "      <td>27</td>\n",
       "      <td>3</td>\n",
       "      <td>1</td>\n",
       "      <td>University of California, Berkeley</td>\n",
       "      <td>-1</td>\n",
       "      <td>27</td>\n",
       "      <td>JOSEPH</td>\n",
       "      <td>P</td>\n",
       "      <td>ROGERS</td>\n",
       "      <td>neuro</td>\n",
       "      <td>3</td>\n",
       "      <td>JACK</td>\n",
       "      <td>L</td>\n",
       "      <td>GALLANT</td>\n",
       "      <td>neuro,psych</td>\n",
       "    </tr>\n",
       "    <tr>\n",
       "      <th>4</th>\n",
       "      <td>18</td>\n",
       "      <td>28</td>\n",
       "      <td>3</td>\n",
       "      <td>2</td>\n",
       "      <td>University of California, Berkeley</td>\n",
       "      <td>-1</td>\n",
       "      <td>28</td>\n",
       "      <td>RACHEL</td>\n",
       "      <td>NaN</td>\n",
       "      <td>SHOUP</td>\n",
       "      <td>neuro</td>\n",
       "      <td>3</td>\n",
       "      <td>JACK</td>\n",
       "      <td>L</td>\n",
       "      <td>GALLANT</td>\n",
       "      <td>neuro,psych</td>\n",
       "    </tr>\n",
       "  </tbody>\n",
       "</table>\n",
       "</div>"
      ],
      "text/plain": [
       "   CID  MenteeID  MentorID  MentorshipType  \\\n",
       "0    2         2         3               1   \n",
       "1    3         4         3               2   \n",
       "2    5         6         3               1   \n",
       "3   17        27         3               1   \n",
       "4   18        28         3               2   \n",
       "\n",
       "                          Institution  StopYear  PID_t FirstName_t  \\\n",
       "0  University of California, Berkeley      2005      2    BENJAMIN   \n",
       "1  University of California, Berkeley      2006      4    BENJAMIN   \n",
       "2  University of California, Berkeley      2008      6        RYAN   \n",
       "3  University of California, Berkeley        -1     27      JOSEPH   \n",
       "4  University of California, Berkeley        -1     28      RACHEL   \n",
       "\n",
       "  MiddleName_t LastName_t ResearchArea_t  PID_m FirstName_m MiddleName_m  \\\n",
       "0            Y     HAYDEN          neuro      3        JACK            L   \n",
       "1          NaN   WILLMORE          neuro      3        JACK            L   \n",
       "2          NaN    PRENGER          neuro      3        JACK            L   \n",
       "3            P     ROGERS          neuro      3        JACK            L   \n",
       "4          NaN      SHOUP          neuro      3        JACK            L   \n",
       "\n",
       "  LastName_m ResearchArea_m  \n",
       "0    GALLANT    neuro,psych  \n",
       "1    GALLANT    neuro,psych  \n",
       "2    GALLANT    neuro,psych  \n",
       "3    GALLANT    neuro,psych  \n",
       "4    GALLANT    neuro,psych  "
      ]
     },
     "execution_count": 11,
     "metadata": {},
     "output_type": "execute_result"
    }
   ],
   "source": [
    "connect_names = connect.merge(people[['PID','FirstName','MiddleName','LastName','ResearchArea']], how='inner', left_on='MenteeID', right_on='PID')\n",
    "connect_names = connect_names.merge(people[['PID','FirstName','MiddleName','LastName','ResearchArea']], how='inner', left_on='MentorID', \n",
    "                                    right_on='PID', suffixes=['_t','_m'])\n",
    "\n",
    "connect_names.head()"
   ]
  },
  {
   "cell_type": "markdown",
   "id": "a75d9ed4",
   "metadata": {},
   "source": [
    "# Find a researcher and their trainees"
   ]
  },
  {
   "cell_type": "markdown",
   "id": "44dc0975",
   "metadata": {},
   "source": [
    "Simple string match to first and last name"
   ]
  },
  {
   "cell_type": "code",
   "execution_count": 12,
   "id": "cb4d3318",
   "metadata": {},
   "outputs": [
    {
     "name": "stdout",
     "output_type": "stream",
     "text": [
      "matching PID=331\n"
     ]
    }
   ],
   "source": [
    "row = people.loc[(people.FirstName=='ERIC') & (people.LastName=='KANDEL')]\n",
    "PID = row.PID.values[0]\n",
    "print(f\"matching PID={PID}\")"
   ]
  },
  {
   "cell_type": "markdown",
   "id": "7f46d23d",
   "metadata": {},
   "source": [
    "Connect table links PID_m (mentor PID) to PID_t (trainee PIDs)"
   ]
  },
  {
   "cell_type": "code",
   "execution_count": 13,
   "id": "3685d4a5",
   "metadata": {},
   "outputs": [
    {
     "data": {
      "text/html": [
       "<div>\n",
       "<style scoped>\n",
       "    .dataframe tbody tr th:only-of-type {\n",
       "        vertical-align: middle;\n",
       "    }\n",
       "\n",
       "    .dataframe tbody tr th {\n",
       "        vertical-align: top;\n",
       "    }\n",
       "\n",
       "    .dataframe thead th {\n",
       "        text-align: right;\n",
       "    }\n",
       "</style>\n",
       "<table border=\"1\" class=\"dataframe\">\n",
       "  <thead>\n",
       "    <tr style=\"text-align: right;\">\n",
       "      <th></th>\n",
       "      <th>PID_t</th>\n",
       "      <th>FirstName_t</th>\n",
       "      <th>MiddleName_t</th>\n",
       "      <th>LastName_t</th>\n",
       "      <th>ResearchArea_t</th>\n",
       "    </tr>\n",
       "  </thead>\n",
       "  <tbody>\n",
       "    <tr>\n",
       "      <th>7368</th>\n",
       "      <td>334</td>\n",
       "      <td>J</td>\n",
       "      <td>DAVID</td>\n",
       "      <td>SWEATT</td>\n",
       "      <td>neuro</td>\n",
       "    </tr>\n",
       "    <tr>\n",
       "      <th>7369</th>\n",
       "      <td>355</td>\n",
       "      <td>IRVING</td>\n",
       "      <td>NaN</td>\n",
       "      <td>KUPFERMANN</td>\n",
       "      <td>neuro</td>\n",
       "    </tr>\n",
       "    <tr>\n",
       "      <th>7370</th>\n",
       "      <td>356</td>\n",
       "      <td>TOM</td>\n",
       "      <td>NaN</td>\n",
       "      <td>CAREW</td>\n",
       "      <td>neuro</td>\n",
       "    </tr>\n",
       "    <tr>\n",
       "      <th>7371</th>\n",
       "      <td>357</td>\n",
       "      <td>HAROLD</td>\n",
       "      <td>NaN</td>\n",
       "      <td>PINSKER</td>\n",
       "      <td>neuro</td>\n",
       "    </tr>\n",
       "    <tr>\n",
       "      <th>7372</th>\n",
       "      <td>354</td>\n",
       "      <td>JAMES</td>\n",
       "      <td>H</td>\n",
       "      <td>SCHWARTZ</td>\n",
       "      <td>neuro</td>\n",
       "    </tr>\n",
       "    <tr>\n",
       "      <th>...</th>\n",
       "      <td>...</td>\n",
       "      <td>...</td>\n",
       "      <td>...</td>\n",
       "      <td>...</td>\n",
       "      <td>...</td>\n",
       "    </tr>\n",
       "    <tr>\n",
       "      <th>7460</th>\n",
       "      <td>767246</td>\n",
       "      <td>EUGENE</td>\n",
       "      <td>P</td>\n",
       "      <td>BRANDON</td>\n",
       "      <td>neuro</td>\n",
       "    </tr>\n",
       "    <tr>\n",
       "      <th>7461</th>\n",
       "      <td>767647</td>\n",
       "      <td>JUAN</td>\n",
       "      <td>MARCOS</td>\n",
       "      <td>ALARCON</td>\n",
       "      <td>neuro</td>\n",
       "    </tr>\n",
       "    <tr>\n",
       "      <th>7462</th>\n",
       "      <td>76072</td>\n",
       "      <td>BENNY</td>\n",
       "      <td>NaN</td>\n",
       "      <td>HOCHNER</td>\n",
       "      <td>neuro</td>\n",
       "    </tr>\n",
       "    <tr>\n",
       "      <th>7463</th>\n",
       "      <td>800683</td>\n",
       "      <td>PO-TAO</td>\n",
       "      <td>NaN</td>\n",
       "      <td>CHEN</td>\n",
       "      <td>neuro</td>\n",
       "    </tr>\n",
       "    <tr>\n",
       "      <th>7464</th>\n",
       "      <td>48450</td>\n",
       "      <td>HARUNORI</td>\n",
       "      <td>NaN</td>\n",
       "      <td>OHMORI</td>\n",
       "      <td>neuro</td>\n",
       "    </tr>\n",
       "  </tbody>\n",
       "</table>\n",
       "<p>97 rows × 5 columns</p>\n",
       "</div>"
      ],
      "text/plain": [
       "       PID_t FirstName_t MiddleName_t  LastName_t ResearchArea_t\n",
       "7368     334           J        DAVID      SWEATT          neuro\n",
       "7369     355      IRVING          NaN  KUPFERMANN          neuro\n",
       "7370     356         TOM          NaN       CAREW          neuro\n",
       "7371     357      HAROLD          NaN     PINSKER          neuro\n",
       "7372     354       JAMES            H    SCHWARTZ          neuro\n",
       "...      ...         ...          ...         ...            ...\n",
       "7460  767246      EUGENE            P     BRANDON          neuro\n",
       "7461  767647        JUAN       MARCOS     ALARCON          neuro\n",
       "7462   76072       BENNY          NaN     HOCHNER          neuro\n",
       "7463  800683      PO-TAO          NaN        CHEN          neuro\n",
       "7464   48450    HARUNORI          NaN      OHMORI          neuro\n",
       "\n",
       "[97 rows x 5 columns]"
      ]
     },
     "execution_count": 13,
     "metadata": {},
     "output_type": "execute_result"
    }
   ],
   "source": [
    "connect_names.loc[connect_names.PID_m==PID,['PID_t','FirstName_t','MiddleName_t','LastName_t','ResearchArea_t']]"
   ]
  },
  {
   "cell_type": "code",
   "execution_count": 14,
   "id": "b7f88b19",
   "metadata": {},
   "outputs": [
    {
     "data": {
      "text/plain": [
       "array([   334,    355,    356,    357,    354,    899,    953,    954,\n",
       "          956,   1346,   1481,   1906,   2193,   2215,   2221,   2223,\n",
       "         2333,   2603,   3070,   3373,   3441,   3442,   3528,   3439,\n",
       "         4086,   4995,   5657,   6367,  58611,   6674,   6202,   8933,\n",
       "         9843,  10030,  11892,  12008,  13423,  13436,  13480,  13552,\n",
       "         7299,  15424,  16069,  16727,   2248,  11427,  18132,  17179,\n",
       "        20649,   7078,  22763,  23049,  23356,  23363,  23785,  25998,\n",
       "        11043,  26587,  26644,   2220,  29321,  29368,  19353,  32885,\n",
       "        24722,  38092,  30421,  47779,  48781,  50175,  50444,  50835,\n",
       "        50954,  56551,  58317,  60353,  61614,  65230,  34641,  65991,\n",
       "        66614,  74996,  83578,  91626, 173942,  51431,  10680,  82051,\n",
       "       737509, 750864, 751257,  20002, 767246, 767647,  76072, 800683,\n",
       "        48450])"
      ]
     },
     "execution_count": 14,
     "metadata": {},
     "output_type": "execute_result"
    }
   ],
   "source": [
    "trainee_PID = connect_names.loc[connect_names.PID_m==PID,'PID_t'].values\n",
    "trainee_PID"
   ]
  },
  {
   "cell_type": "markdown",
   "id": "f5ddd98b",
   "metadata": {},
   "source": [
    "# Find publications associated with a researcher"
   ]
  },
  {
   "cell_type": "markdown",
   "id": "c91d6dd7",
   "metadata": {},
   "source": [
    "MAGPaperID is the unique identifier for papers in the MAG database. Note that this code matches to Papers.csv, which is a subset of the entire MAG corpus!"
   ]
  },
  {
   "cell_type": "code",
   "execution_count": 15,
   "id": "41039fc5",
   "metadata": {},
   "outputs": [],
   "source": [
    "pid_magid = pd.read_csv(home_dir / 'data' / 'MENTORSHIP' / 'authorship.csv')"
   ]
  },
  {
   "cell_type": "code",
   "execution_count": 16,
   "id": "8e2cc81b",
   "metadata": {},
   "outputs": [
    {
     "data": {
      "text/html": [
       "<div>\n",
       "<style scoped>\n",
       "    .dataframe tbody tr th:only-of-type {\n",
       "        vertical-align: middle;\n",
       "    }\n",
       "\n",
       "    .dataframe tbody tr th {\n",
       "        vertical-align: top;\n",
       "    }\n",
       "\n",
       "    .dataframe thead th {\n",
       "        text-align: right;\n",
       "    }\n",
       "</style>\n",
       "<table border=\"1\" class=\"dataframe\">\n",
       "  <thead>\n",
       "    <tr style=\"text-align: right;\">\n",
       "      <th></th>\n",
       "      <th>PID</th>\n",
       "      <th>MAGPaperID</th>\n",
       "    </tr>\n",
       "  </thead>\n",
       "  <tbody>\n",
       "    <tr>\n",
       "      <th>41025</th>\n",
       "      <td>331</td>\n",
       "      <td>111832100</td>\n",
       "    </tr>\n",
       "    <tr>\n",
       "      <th>41026</th>\n",
       "      <td>331</td>\n",
       "      <td>1216687283</td>\n",
       "    </tr>\n",
       "    <tr>\n",
       "      <th>41027</th>\n",
       "      <td>331</td>\n",
       "      <td>132816808</td>\n",
       "    </tr>\n",
       "    <tr>\n",
       "      <th>41028</th>\n",
       "      <td>331</td>\n",
       "      <td>1427063205</td>\n",
       "    </tr>\n",
       "    <tr>\n",
       "      <th>41029</th>\n",
       "      <td>331</td>\n",
       "      <td>144537577</td>\n",
       "    </tr>\n",
       "    <tr>\n",
       "      <th>...</th>\n",
       "      <td>...</td>\n",
       "      <td>...</td>\n",
       "    </tr>\n",
       "    <tr>\n",
       "      <th>41632</th>\n",
       "      <td>331</td>\n",
       "      <td>67755273</td>\n",
       "    </tr>\n",
       "    <tr>\n",
       "      <th>41633</th>\n",
       "      <td>331</td>\n",
       "      <td>6776920</td>\n",
       "    </tr>\n",
       "    <tr>\n",
       "      <th>41634</th>\n",
       "      <td>331</td>\n",
       "      <td>79844685</td>\n",
       "    </tr>\n",
       "    <tr>\n",
       "      <th>41635</th>\n",
       "      <td>331</td>\n",
       "      <td>84539758</td>\n",
       "    </tr>\n",
       "    <tr>\n",
       "      <th>41636</th>\n",
       "      <td>331</td>\n",
       "      <td>980029381</td>\n",
       "    </tr>\n",
       "  </tbody>\n",
       "</table>\n",
       "<p>612 rows × 2 columns</p>\n",
       "</div>"
      ],
      "text/plain": [
       "       PID  MAGPaperID\n",
       "41025  331   111832100\n",
       "41026  331  1216687283\n",
       "41027  331   132816808\n",
       "41028  331  1427063205\n",
       "41029  331   144537577\n",
       "...    ...         ...\n",
       "41632  331    67755273\n",
       "41633  331     6776920\n",
       "41634  331    79844685\n",
       "41635  331    84539758\n",
       "41636  331   980029381\n",
       "\n",
       "[612 rows x 2 columns]"
      ]
     },
     "execution_count": 16,
     "metadata": {},
     "output_type": "execute_result"
    }
   ],
   "source": [
    "pid_magid.loc[pid_magid.PID==PID]"
   ]
  }
 ],
 "metadata": {
  "kernelspec": {
   "display_name": "Python 3",
   "language": "python",
   "name": "python3"
  },
  "language_info": {
   "codemirror_mode": {
    "name": "ipython",
    "version": 3
   },
   "file_extension": ".py",
   "mimetype": "text/x-python",
   "name": "python",
   "nbconvert_exporter": "python",
   "pygments_lexer": "ipython3",
   "version": "3.8.6"
  },
  "latex_envs": {
   "LaTeX_envs_menu_present": true,
   "autoclose": false,
   "autocomplete": true,
   "bibliofile": "biblio.bib",
   "cite_by": "apalike",
   "current_citInitial": 1,
   "eqLabelWithNumbers": true,
   "eqNumInitial": 1,
   "hotkeys": {
    "equation": "Ctrl-E",
    "itemize": "Ctrl-I"
   },
   "labels_anchors": false,
   "latex_user_defs": false,
   "report_style_numbering": false,
   "user_envs_cfg": false
  },
  "toc": {
   "base_numbering": 1,
   "nav_menu": {},
   "number_sections": true,
   "sideBar": true,
   "skip_h1_title": false,
   "title_cell": "Table of Contents",
   "title_sidebar": "Contents",
   "toc_cell": false,
   "toc_position": {},
   "toc_section_display": true,
   "toc_window_display": true
  }
 },
 "nbformat": 4,
 "nbformat_minor": 5
}
