{
 "cells": [
  {
   "cell_type": "markdown",
   "id": "functional-greensboro",
   "metadata": {
    "slideshow": {
     "slide_type": "slide"
    }
   },
   "source": [
    "# Project brainstorming\n",
    "\n",
    "## Natural language processing\n",
    "\n",
    "- Citation worthiness: Zeng, T., & Acuna, D. E. (2020). Modeling citation worthiness by using attention-based bidirectional long short-term memory networks and interpretable models. Scientometrics, 124(1), 399-428. https://link.springer.com/article/10.1007/s11192-020-03421-9\n",
    "\n",
    "> Notebook: <a href=\"project_examples/project-nlp-text-mining.ipynb\">project-nlp-text-mining.ipynb</a>\n",
    "\n",
    "- OpenAlex datase: Priem, J., Piwowar, H., & Orr, R. (2022). OpenAlex: A fully-open index of scholarly works, authors, venues, institutions, and concepts. arXiv preprint arXiv:2205.01833. https://arxiv.org/abs/2205.01833\n",
    "\n",
    "> Notebook: <a href=\"project_examples/project-OpenAlex.ipynb\">project-OpenAlex.ipynb</a>\n",
    "> Notebook: <a href=\"project_examples/project-OpenAlex-advanced-queries.ipynb\">project-OpenAlex-advanced-queries.ipynb</a>\n",
    "\n",
    "## Network science\n",
    "\n",
    "- Mentorship network:  Ke, Q., Liang, L., Ding, Y. et al. A dataset of mentorship in bioscience with semantic and demographic estimations. Sci Data 9, 467 (2022). https://www.nature.com/articles/s41597-022-01578-x\n",
    "\n",
    "> Notebook: <a href=\"project_examples/project-MENTORSHIP-dataset.ipynb\">project-MENTORSHIP-dataset.ipynb</a>\n",
    "\n",
    "\n",
    "## Image classification\n",
    "\n",
    "- Classify graph type: Zhuang, H., Huang, T. Y., & Acuna, D. E. (2021). Graphical integrity issues in open access publications: Detection and patterns of proportional ink violations. PLoS computational biology, 17(12), https://journals.plos.org/ploscompbiol/article?id=10.1371/journal.pcbi.1009650 \n",
    "\n",
    "> Notebook: <a href=\"project_examples/project-scientific-images-finetune-CNN.ipynb\">project-scientific-images-finetune-CNN.ipynb</a>"
   ]
  },
  {
   "cell_type": "markdown",
   "id": "continent-traveler",
   "metadata": {
    "slideshow": {
     "slide_type": "slide"
    }
   },
   "source": [
    "To download the data for each of these projects, please use the link https://drive.google.com/file/d/1QKk54pd4TDFA6oYMt3XVGSu1wGu-UbOj/view?usp=sharing and uncompress it to the `data` folder."
   ]
  }
 ],
 "metadata": {
  "celltoolbar": "Slideshow",
  "kernelspec": {
   "display_name": "Python 3",
   "language": "python",
   "name": "python3"
  },
  "language_info": {
   "codemirror_mode": {
    "name": "ipython",
    "version": 3
   },
   "file_extension": ".py",
   "mimetype": "text/x-python",
   "name": "python",
   "nbconvert_exporter": "python",
   "pygments_lexer": "ipython3",
   "version": "3.8.6"
  }
 },
 "nbformat": 4,
 "nbformat_minor": 5
}
